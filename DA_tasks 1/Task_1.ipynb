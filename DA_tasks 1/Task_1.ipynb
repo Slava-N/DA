{
 "cells": [
  {
   "cell_type": "code",
   "execution_count": 141,
   "metadata": {
    "collapsed": false,
    "scrolled": false
   },
   "outputs": [
    {
     "name": "stdout",
     "output_type": "stream",
     "text": [
      "               Count\n",
      "Year Gender         \n",
      "1900 F        299822\n",
      "     M        150490\n",
      "1950 F       1713450\n",
      "     M       1791474\n",
      "2000 F       1814738\n",
      "     M       1962556\n",
      "['James', 'John', 'Robert']\n",
      "\n",
      "None\n"
     ]
    }
   ],
   "source": [
    "import pandas as pd\n",
    "import numpy as np\n",
    "import matplotlib.pyplot as pla\n",
    "import os\n",
    "from pprint import pprint\n",
    "%matplotlib inline\n",
    "\n",
    "def read_list(f_list):\n",
    "    years = {}\n",
    "    cols = ['Name', 'Gender', 'Count']\n",
    "    for each in f_list:\n",
    "        data_path = r'C:\\Users\\Slava-N\\Documents\\Python Scripts\\DA_tasks 1\\names\\yob{}.txt'.format(each)\n",
    "        years[each] = pd.read_csv(data_path, names=cols)\n",
    "    return(years)\n",
    "\n",
    "def combine(dictionary_with_data):\n",
    "    cols = ['Year', 'Pos']\n",
    "    total_base = pd.concat(dictionary_with_data, names=cols)\n",
    "    return(total_base)\n",
    "\n",
    "def find_popular_names(years):\n",
    "    x=read_list(years)\n",
    "    y=combine(x)\n",
    "    total_base_group = y.groupby('Name').sum().sort_values(by='Count', ascending=False)\n",
    "\n",
    "    result=total_base_group['Count'][:3]\n",
    "    names = list(result.keys())\n",
    "    return names\n",
    "\n",
    "def count_dynamics(years):\n",
    "    x=read_list(years)\n",
    "    y=combine(x)\n",
    "    dino = y.groupby([y.index.get_level_values(0), 'Gender']).sum()\n",
    "    print(dino)\n",
    "    return None\n",
    "\n",
    "if __name__ == '__main__':\n",
    "    print(find_popular_names([1900, 1950, 2000]), count_dynamics([1900, 1950, 2000]), sep=2 * '\\n')\n",
    "\n",
    "\n",
    "    \n",
    "    "
   ]
  },
  {
   "cell_type": "code",
   "execution_count": null,
   "metadata": {
    "collapsed": true
   },
   "outputs": [],
   "source": []
  }
 ],
 "metadata": {
  "kernelspec": {
   "display_name": "Python 3",
   "language": "python",
   "name": "python3"
  },
  "language_info": {
   "codemirror_mode": {
    "name": "ipython",
    "version": 3
   },
   "file_extension": ".py",
   "mimetype": "text/x-python",
   "name": "python",
   "nbconvert_exporter": "python",
   "pygments_lexer": "ipython3",
   "version": "3.6.0"
  }
 },
 "nbformat": 4,
 "nbformat_minor": 2
}
